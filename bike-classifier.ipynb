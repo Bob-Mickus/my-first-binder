{
 "cells": [
  {
   "cell_type": "code",
   "execution_count": null,
   "id": "c0b27cdf",
   "metadata": {
    "ExecuteTime": {
     "end_time": "2022-11-28T21:40:09.618975Z",
     "start_time": "2022-11-28T21:40:06.507332Z"
    }
   },
   "outputs": [],
   "source": [
    "from fastai.vision.all import *\n",
    "from fastai.vision.widgets import *"
   ]
  },
  {
   "cell_type": "code",
   "execution_count": null,
   "id": "a0e73630",
   "metadata": {
    "ExecuteTime": {
     "end_time": "2022-11-28T21:40:14.842117Z",
     "start_time": "2022-11-28T21:40:12.300748Z"
    }
   },
   "outputs": [],
   "source": [
    "!pip install voila\n",
    "!jupyter serverextension enable --sys-prefix voila"
   ]
  },
  {
   "cell_type": "code",
   "execution_count": null,
   "id": "7f3fe70f",
   "metadata": {
    "ExecuteTime": {
     "end_time": "2022-11-28T21:40:20.811115Z",
     "start_time": "2022-11-28T21:40:20.735987Z"
    }
   },
   "outputs": [],
   "source": [
    "# path = Path()\n",
    "learn_inf = load_learner('export.pkl', cpu=True)\n",
    "btn_upload = widgets.FileUpload()\n",
    "out_pl = widgets.Output()\n",
    "lbl_pred = widgets.Label()"
   ]
  },
  {
   "cell_type": "code",
   "execution_count": null,
   "id": "7264ee6c",
   "metadata": {
    "ExecuteTime": {
     "end_time": "2022-11-28T21:40:29.316586Z",
     "start_time": "2022-11-28T21:40:29.310367Z"
    }
   },
   "outputs": [],
   "source": [
    "def on_data_change(change):\n",
    "    lbl_pred.value = ''\n",
    "    img = PILImage.create(btn_upload.data[-1])\n",
    "    out_pl.clear_output()\n",
    "    with out_pl: display(img.to_thumb(128,128))\n",
    "    pred,pred_idx,probs = learn_inf.predict(img)\n",
    "    lbl_pred.value = f'Prediction: {pred}; Probability: {probs[pred_idx]:.04f}'"
   ]
  },
  {
   "cell_type": "code",
   "execution_count": null,
   "id": "6b2e110c",
   "metadata": {
    "ExecuteTime": {
     "end_time": "2022-11-28T21:40:30.803277Z",
     "start_time": "2022-11-28T21:40:30.797840Z"
    }
   },
   "outputs": [],
   "source": [
    "btn_upload.observe(on_data_change, names=['data'])"
   ]
  },
  {
   "cell_type": "code",
   "execution_count": null,
   "id": "08df7001",
   "metadata": {
    "ExecuteTime": {
     "end_time": "2022-11-28T21:40:32.666957Z",
     "start_time": "2022-11-28T21:40:32.647369Z"
    }
   },
   "outputs": [],
   "source": [
    "display(VBox([widgets.Label('Select your bike!'), btn_upload, out_pl, lbl_pred]))"
   ]
  },
  {
   "cell_type": "code",
   "execution_count": null,
   "id": "5d1454b2",
   "metadata": {
    "ExecuteTime": {
     "end_time": "2022-11-28T21:40:34.602916Z",
     "start_time": "2022-11-28T21:40:34.585680Z"
    }
   },
   "outputs": [],
   "source": [
    "display(VBox([widgets.Label('Select your bike!'), btn_upload, out_pl, lbl_pred]))"
   ]
  },
  {
   "cell_type": "code",
   "execution_count": null,
   "id": "3d6250c4",
   "metadata": {},
   "outputs": [],
   "source": []
  }
 ],
 "metadata": {
  "kernelspec": {
   "display_name": "Python 3",
   "language": "python",
   "name": "python3"
  },
  "language_info": {
   "codemirror_mode": {
    "name": "ipython",
    "version": 3
   },
   "file_extension": ".py",
   "mimetype": "text/x-python",
   "name": "python",
   "nbconvert_exporter": "python",
   "pygments_lexer": "ipython3",
   "version": "3.10.8"
  },
  "toc": {
   "base_numbering": 1,
   "nav_menu": {},
   "number_sections": true,
   "sideBar": true,
   "skip_h1_title": false,
   "title_cell": "Table of Contents",
   "title_sidebar": "Contents",
   "toc_cell": false,
   "toc_position": {},
   "toc_section_display": true,
   "toc_window_display": false
  }
 },
 "nbformat": 4,
 "nbformat_minor": 5
}
